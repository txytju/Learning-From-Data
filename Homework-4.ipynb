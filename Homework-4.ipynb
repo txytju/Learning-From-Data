{
 "cells": [
  {
   "cell_type": "code",
   "execution_count": 1,
   "metadata": {
    "collapsed": true
   },
   "outputs": [],
   "source": [
    "import numpy as np"
   ]
  },
  {
   "cell_type": "code",
   "execution_count": 25,
   "metadata": {
    "collapsed": true
   },
   "outputs": [],
   "source": [
    "from sklearn.linear_model import Ridge\n",
    "from matplotlib import pyplot as plt\n",
    "%matplotlib inline"
   ]
  },
  {
   "cell_type": "code",
   "execution_count": 5,
   "metadata": {},
   "outputs": [],
   "source": [
    "train_data = np.loadtxt(\"hw4_train.txt\")\n",
    "test_data = np.loadtxt(\"hw4_test.txt\")"
   ]
  },
  {
   "cell_type": "code",
   "execution_count": 16,
   "metadata": {},
   "outputs": [
    {
     "name": "stdout",
     "output_type": "stream",
     "text": [
      "(200, 2) (200,)\n",
      "(1000, 2) (1000,)\n"
     ]
    }
   ],
   "source": [
    "x_train, y_train = train_data[:,:2], train_data[:,2]\n",
    "print(x_train.shape, y_train.shape)\n",
    "\n",
    "x_test, y_test = test_data[:,:2], test_data[:,2]\n",
    "print(x_test.shape, y_test.shape)"
   ]
  },
  {
   "cell_type": "code",
   "execution_count": 26,
   "metadata": {},
   "outputs": [
    {
     "data": {
      "image/png": "[encoded data removed]",
      "text/plain": [
       "<matplotlib.figure.Figure at 0x7f4845903f28>"
      ]
     },
     "metadata": {},
     "output_type": "display_data"
    }
   ],
   "source": [
    "for i in range(x_train.shape[0]):\n",
    "    if y_train[i] == 1 :\n",
    "        plt.scatter(x_train[i,0], x_train[i,1], marker=\"o\")\n",
    "    else :\n",
    "        plt.scatter(x_train[i,0], x_train[i,1], marker=\"x\")"
   ]
  },
  {
   "cell_type": "markdown",
   "metadata": {},
   "source": [
    "### 13"
   ]
  },
  {
   "cell_type": "code",
   "execution_count": 17,
   "metadata": {},
   "outputs": [],
   "source": [
    "model = Ridge(alpha=10)"
   ]
  },
  {
   "cell_type": "code",
   "execution_count": 18,
   "metadata": {},
   "outputs": [
    {
     "data": {
      "text/plain": [
       "Ridge(alpha=10, copy_X=True, fit_intercept=True, max_iter=None,\n",
       "   normalize=False, random_state=None, solver='auto', tol=0.001)"
      ]
     },
     "execution_count": 18,
     "metadata": {},
     "output_type": "execute_result"
    }
   ],
   "source": [
    "model.fit(x_train, y_train)"
   ]
  },
  {
   "cell_type": "code",
   "execution_count": 29,
   "metadata": {},
   "outputs": [
    {
     "name": "stdout",
     "output_type": "stream",
     "text": [
      "[ 1.16625186  1.1662378 ] -1.10053818223\n"
     ]
    }
   ],
   "source": [
    "print(model.coef_, model.intercept_)"
   ]
  },
  {
   "cell_type": "code",
   "execution_count": 36,
   "metadata": {},
   "outputs": [
    {
     "name": "stdout",
     "output_type": "stream",
     "text": [
      "Ein =  0.035\n"
     ]
    }
   ],
   "source": [
    "y_train_preds = model.predict(x_train)\n",
    "y_train_preds = [1 if i>=0 else -1 for i in y_train_preds]\n",
    "print(\"Ein = \", 1 - sum(y_train_preds == y_train)/200)"
   ]
  },
  {
   "cell_type": "code",
   "execution_count": 37,
   "metadata": {},
   "outputs": [
    {
     "name": "stdout",
     "output_type": "stream",
     "text": [
      "Eout =  0.022\n"
     ]
    }
   ],
   "source": [
    "y_test_preds = model.predict(x_test)\n",
    "y_test_preds = [1 if i>=0 else -1 for i in y_test_preds]\n",
    "print(\"Eout = \", 1 - sum(y_test_preds == y_test)/1000)"
   ]
  },
  {
   "cell_type": "markdown",
   "metadata": {},
   "source": [
    "### 14"
   ]
  },
  {
   "cell_type": "code",
   "execution_count": 41,
   "metadata": {
    "collapsed": true
   },
   "outputs": [],
   "source": [
    "lambs = [-10, -8, -6, -4, -2]\n",
    "Eins = []\n",
    "Eouts = []\n",
    "\n",
    "for lamb in lambs:\n",
    "    model = Ridge(10**lamb)\n",
    "    model.fit(x_train, y_train)\n",
    "    \n",
    "    y_train_preds = model.predict(x_train)\n",
    "    y_train_preds = [1 if i>=0 else -1 for i in y_train_preds]\n",
    "    Eins.append(1 - sum(y_train_preds == y_train)/200)\n",
    "    \n",
    "    y_test_preds = model.predict(x_test)\n",
    "    y_test_preds = [1 if i>=0 else -1 for i in y_test_preds]\n",
    "    Eouts.append(1 - sum(y_test_preds == y_test)/1000)\n"
   ]
  },
  {
   "cell_type": "code",
   "execution_count": 42,
   "metadata": {},
   "outputs": [
    {
     "data": {
      "text/plain": [
       "[0.015000000000000013,\n",
       " 0.015000000000000013,\n",
       " 0.035000000000000031,\n",
       " 0.030000000000000027,\n",
       " 0.030000000000000027]"
      ]
     },
     "execution_count": 42,
     "metadata": {},
     "output_type": "execute_result"
    }
   ],
   "source": [
    "Eins"
   ]
  },
  {
   "cell_type": "code",
   "execution_count": 43,
   "metadata": {},
   "outputs": [
    {
     "data": {
      "text/plain": [
       "[0.020000000000000018,\n",
       " 0.020000000000000018,\n",
       " 0.016000000000000014,\n",
       " 0.016000000000000014,\n",
       " 0.016000000000000014]"
      ]
     },
     "execution_count": 43,
     "metadata": {},
     "output_type": "execute_result"
    }
   ],
   "source": [
    "Eouts"
   ]
  },
  {
   "cell_type": "markdown",
   "metadata": {},
   "source": [
    "### 15"
   ]
  },
  {
   "cell_type": "code",
   "execution_count": 47,
   "metadata": {
    "collapsed": true
   },
   "outputs": [],
   "source": [
    "lambs = range(-10,3)\n",
    "Eins = []\n",
    "Eouts = []\n",
    "\n",
    "for lamb in lambs:\n",
    "    model = Ridge(10**lamb)\n",
    "    model.fit(x_train, y_train)\n",
    "    \n",
    "    y_train_preds = model.predict(x_train)\n",
    "    y_train_preds = [1 if i>=0 else -1 for i in y_train_preds]\n",
    "    Eins.append(1 - sum(y_train_preds == y_train)/200)\n",
    "    \n",
    "    y_test_preds = model.predict(x_test)\n",
    "    y_test_preds = [1 if i>=0 else -1 for i in y_test_preds]\n",
    "    Eouts.append(1 - sum(y_test_preds == y_test)/1000)"
   ]
  },
  {
   "cell_type": "code",
   "execution_count": 48,
   "metadata": {},
   "outputs": [
    {
     "data": {
      "text/plain": [
       "[0.015000000000000013,\n",
       " 0.015000000000000013,\n",
       " 0.015000000000000013,\n",
       " 0.030000000000000027,\n",
       " 0.035000000000000031,\n",
       " 0.030000000000000027,\n",
       " 0.030000000000000027,\n",
       " 0.030000000000000027,\n",
       " 0.030000000000000027,\n",
       " 0.030000000000000027,\n",
       " 0.035000000000000031,\n",
       " 0.035000000000000031,\n",
       " 0.099999999999999978]"
      ]
     },
     "execution_count": 48,
     "metadata": {},
     "output_type": "execute_result"
    }
   ],
   "source": [
    "Eins"
   ]
  },
  {
   "cell_type": "code",
   "execution_count": 49,
   "metadata": {},
   "outputs": [
    {
     "data": {
      "text/plain": [
       "[0.020000000000000018,\n",
       " 0.020000000000000018,\n",
       " 0.020000000000000018,\n",
       " 0.015000000000000013,\n",
       " 0.016000000000000014,\n",
       " 0.016000000000000014,\n",
       " 0.016000000000000014,\n",
       " 0.016000000000000014,\n",
       " 0.016000000000000014,\n",
       " 0.016000000000000014,\n",
       " 0.017000000000000015,\n",
       " 0.02200000000000002,\n",
       " 0.09099999999999997]"
      ]
     },
     "execution_count": 49,
     "metadata": {},
     "output_type": "execute_result"
    }
   ],
   "source": [
    "Eouts"
   ]
  },
  {
   "cell_type": "markdown",
   "metadata": {},
   "source": [
    "### 16-17"
   ]
  },
  {
   "cell_type": "code",
   "execution_count": 51,
   "metadata": {},
   "outputs": [],
   "source": [
    "x_train_, x_val_ = x_train[:120], x_train[120:]\n",
    "y_train_, y_val_ = y_train[:120], y_train[120:]"
   ]
  },
  {
   "cell_type": "code",
   "execution_count": 56,
   "metadata": {
    "collapsed": true
   },
   "outputs": [],
   "source": [
    "lambs = range(-10,3)\n",
    "Eins = []\n",
    "Evals = []\n",
    "Eouts = []\n",
    "\n",
    "for lamb in lambs:\n",
    "    model = Ridge(10**lamb)\n",
    "    model.fit(x_train_, y_train_)\n",
    "    \n",
    "    y_train_preds = model.predict(x_train_)\n",
    "    y_train_preds = [1 if i>=0 else -1 for i in y_train_preds]\n",
    "    Eins.append(1 - sum(y_train_preds == y_train_)/120)\n",
    "    \n",
    "    y_val_preds = model.predict(x_val_)\n",
    "    y_val_preds = [1 if i>=0 else -1 for i in y_val_preds]\n",
    "    Evals.append(1 - sum(y_val_preds == y_val_)/80)\n",
    "    \n",
    "    y_test_preds = model.predict(x_test)\n",
    "    y_test_preds = [1 if i>=0 else -1 for i in y_test_preds]\n",
    "    Eouts.append(1 - sum(y_test_preds == y_test)/1000)"
   ]
  },
  {
   "cell_type": "code",
   "execution_count": 57,
   "metadata": {},
   "outputs": [
    {
     "data": {
      "text/plain": [
       "[0.0083333333333333037,\n",
       " 0.0,\n",
       " 0.0,\n",
       " 0.033333333333333326,\n",
       " 0.033333333333333326,\n",
       " 0.033333333333333326,\n",
       " 0.033333333333333326,\n",
       " 0.033333333333333326,\n",
       " 0.033333333333333326,\n",
       " 0.033333333333333326,\n",
       " 0.033333333333333326,\n",
       " 0.033333333333333326,\n",
       " 0.25]"
      ]
     },
     "execution_count": 57,
     "metadata": {},
     "output_type": "execute_result"
    }
   ],
   "source": [
    "Eins"
   ]
  },
  {
   "cell_type": "code",
   "execution_count": 58,
   "metadata": {},
   "outputs": [
    {
     "data": {
      "text/plain": [
       "[0.125,\n",
       " 0.099999999999999978,\n",
       " 0.050000000000000044,\n",
       " 0.037499999999999978,\n",
       " 0.037499999999999978,\n",
       " 0.037499999999999978,\n",
       " 0.037499999999999978,\n",
       " 0.037499999999999978,\n",
       " 0.037499999999999978,\n",
       " 0.037499999999999978,\n",
       " 0.037499999999999978,\n",
       " 0.0625,\n",
       " 0.32499999999999996]"
      ]
     },
     "execution_count": 58,
     "metadata": {},
     "output_type": "execute_result"
    }
   ],
   "source": [
    "Evals"
   ]
  },
  {
   "cell_type": "code",
   "execution_count": 59,
   "metadata": {},
   "outputs": [
    {
     "data": {
      "text/plain": [
       "[0.040000000000000036,\n",
       " 0.038000000000000034,\n",
       " 0.025000000000000022,\n",
       " 0.021000000000000019,\n",
       " 0.021000000000000019,\n",
       " 0.021000000000000019,\n",
       " 0.021000000000000019,\n",
       " 0.021000000000000019,\n",
       " 0.021000000000000019,\n",
       " 0.021000000000000019,\n",
       " 0.02200000000000002,\n",
       " 0.043000000000000038,\n",
       " 0.30300000000000005]"
      ]
     },
     "execution_count": 59,
     "metadata": {},
     "output_type": "execute_result"
    }
   ],
   "source": [
    "Eouts"
   ]
  },
  {
   "cell_type": "markdown",
   "metadata": {},
   "source": [
    "### 18"
   ]
  },
  {
   "cell_type": "code",
   "execution_count": 61,
   "metadata": {},
   "outputs": [
    {
     "name": "stdout",
     "output_type": "stream",
     "text": [
      "Ein and Eout are :  0.035 0.017\n"
     ]
    }
   ],
   "source": [
    "lamb = 0\n",
    "\n",
    "model = Ridge(10**lamb)\n",
    "model.fit(x_train, y_train)\n",
    "\n",
    "y_train_preds = model.predict(x_train)\n",
    "y_train_preds = [1 if i>=0 else -1 for i in y_train_preds]\n",
    "Ein = 1 - sum(y_train_preds == y_train)/200\n",
    "\n",
    "y_test_preds = model.predict(x_test)\n",
    "y_test_preds = [1 if i>=0 else -1 for i in y_test_preds]\n",
    "Eout = 1 - sum(y_test_preds == y_test)/1000\n",
    "\n",
    "print(\"Ein and Eout are : \", Ein, Eout)"
   ]
  },
  {
   "cell_type": "markdown",
   "metadata": {},
   "source": [
    "### 19"
   ]
  },
  {
   "cell_type": "code",
   "execution_count": 97,
   "metadata": {
    "collapsed": true
   },
   "outputs": [],
   "source": [
    "from collections import defaultdict"
   ]
  },
  {
   "cell_type": "code",
   "execution_count": 89,
   "metadata": {},
   "outputs": [],
   "source": [
    "y_train = y_train.reshape(200,1)"
   ]
  },
  {
   "cell_type": "code",
   "execution_count": 91,
   "metadata": {},
   "outputs": [],
   "source": [
    "x_trains = []\n",
    "y_trains = []\n",
    "x_vals = []\n",
    "y_vals = []\n",
    "\n",
    "\n",
    "for i in range(0,200,40):\n",
    "    splits_x = np.vsplit(x_train,[i,i+40])\n",
    "    splits_y = np.vsplit(y_train,[i,i+40])\n",
    "    \n",
    "    x_train_part = np.concatenate([splits_x[0], splits_x[2]], axis=0)\n",
    "    x_val_part = splits_x[1]\n",
    "    \n",
    "    y_train_part = np.concatenate([splits_y[0], splits_y[2]], axis=0)\n",
    "    y_val_part = splits_y[1]    \n",
    "    \n",
    "    x_trains.append(x_train_part)\n",
    "    x_vals.append(x_val_part)\n",
    "    y_trains.append(np.squeeze(y_train_part))\n",
    "    y_vals.append(np.squeeze(y_val_part))"
   ]
  },
  {
   "cell_type": "code",
   "execution_count": 111,
   "metadata": {},
   "outputs": [],
   "source": [
    "lambs = range(-10,3)\n",
    "Evals = {lamb:0 for lamb in lambs}\n",
    "\n",
    "for lamb in lambs:\n",
    "    model = Ridge(10**lamb)\n",
    "    \n",
    "    for x_train_part, y_train_part, x_val_part, y_val_part in zip(x_trains, y_trains, x_vals, y_vals):\n",
    "        \n",
    "        model.fit(x_train_part, y_train_part)\n",
    "\n",
    "        y_val_preds = model.predict(x_val_part)\n",
    "        y_val_preds = [1 if i>=0 else -1 for i in y_val_preds]\n",
    "        Evals[lamb] += 1 - sum(y_val_preds == y_val_part)/40\n",
    "        \n",
    "        \n",
    "Evals = {key:v/5 for key,v in Evals.items()}"
   ]
  },
  {
   "cell_type": "code",
   "execution_count": 112,
   "metadata": {},
   "outputs": [
    {
     "data": {
      "text/plain": [
       "{-10: 0.049999999999999975,\n",
       " -9: 0.049999999999999975,\n",
       " -8: 0.029999999999999982,\n",
       " -7: 0.034999999999999989,\n",
       " -6: 0.034999999999999989,\n",
       " -5: 0.034999999999999989,\n",
       " -4: 0.034999999999999989,\n",
       " -3: 0.034999999999999989,\n",
       " -2: 0.034999999999999989,\n",
       " -1: 0.034999999999999989,\n",
       " 0: 0.034999999999999989,\n",
       " 1: 0.039999999999999994,\n",
       " 2: 0.13999999999999999}"
      ]
     },
     "execution_count": 112,
     "metadata": {},
     "output_type": "execute_result"
    }
   ],
   "source": [
    "Evals"
   ]
  },
  {
   "cell_type": "markdown",
   "metadata": {},
   "source": [
    "### 20"
   ]
  },
  {
   "cell_type": "code",
   "execution_count": 118,
   "metadata": {},
   "outputs": [
    {
     "name": "stdout",
     "output_type": "stream",
     "text": [
      "(200, 2) (200, 1)\n"
     ]
    }
   ],
   "source": [
    "print(x_train.shape, y_train.shape)"
   ]
  },
  {
   "cell_type": "code",
   "execution_count": 124,
   "metadata": {},
   "outputs": [
    {
     "name": "stdout",
     "output_type": "stream",
     "text": [
      "Ein and Eout are :  0.015 0.02\n"
     ]
    }
   ],
   "source": [
    "lamb = -8\n",
    "\n",
    "model = Ridge(10**lamb)\n",
    "model.fit(x_train, y_train)\n",
    "\n",
    "y_train_preds = model.predict(x_train)\n",
    "y_train_preds = [1 if i>=0 else -1 for i in y_train_preds]\n",
    "Ein = 1 - sum(y_train_preds == np.squeeze(y_train))/200\n",
    "\n",
    "y_test_preds = model.predict(x_test)\n",
    "y_test_preds = [1 if i>=0 else -1 for i in y_test_preds]\n",
    "Eout = 1 - sum(y_test_preds == y_test)/1000\n",
    "\n",
    "print(\"Ein and Eout are : \", Ein, Eout)"
   ]
  },
  {
   "cell_type": "code",
   "execution_count": null,
   "metadata": {
    "collapsed": true
   },
   "outputs": [],
   "source": []
  }
 ],
 "metadata": {
  "kernelspec": {
   "display_name": "Python 3",
   "language": "python",
   "name": "python3"
  },
  "language_info": {
   "codemirror_mode": {
    "name": "ipython",
    "version": 3
   },
   "file_extension": ".py",
   "mimetype": "text/x-python",
   "name": "python",
   "nbconvert_exporter": "python",
   "pygments_lexer": "ipython3",
   "version": "3.5.2"
  }
 },
 "nbformat": 4,
 "nbformat_minor": 2
}
