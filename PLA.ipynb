{
 "cells": [
  {
   "cell_type": "code",
   "execution_count": 1,
   "metadata": {
    "collapsed": true
   },
   "outputs": [],
   "source": [
    "import numpy as np\n",
    "from matplotlib import pyplot as plt\n",
    "%matplotlib inline"
   ]
  },
  {
   "cell_type": "code",
   "execution_count": 2,
   "metadata": {
    "collapsed": true
   },
   "outputs": [],
   "source": [
    "def f(dim):\n",
    "    '''\n",
    "    target function.\n",
    "    '''\n",
    "    return np.random.randint(-10,10,dim)\n",
    "\n",
    "def generate_dataset(num, dim, w):\n",
    "    '''\n",
    "    generate ground truth dataset D using ground truth w.\n",
    "    D is contained of num points.\n",
    "    '''\n",
    "    x = np.random.randint(-10,10,(num,dim))\n",
    "    y = np.sign(np.matmul(x,w.reshape(dim,1)))\n",
    "    return x, y"
   ]
  },
  {
   "cell_type": "code",
   "execution_count": 3,
   "metadata": {
    "collapsed": true
   },
   "outputs": [],
   "source": [
    "def PLA(x, y):\n",
    "    w = np.zeros(x.shape[1]).reshape(dim,1)\n",
    "    misclassified_id = np.squeeze(np.sign(np.matmul(x,w)) != y)\n",
    "    iters = 0\n",
    "    \n",
    "    while misclassified_id.any() :\n",
    "        select_point = np.argmax(misclassified_id==True)\n",
    "        w += (y[select_point] * x[select_point]).reshape(dim,1)\n",
    "        misclassified_id = np.squeeze(np.sign(np.matmul(x,w)) != y)\n",
    "        iters += 1\n",
    "        \n",
    "    return w, iters"
   ]
  },
  {
   "cell_type": "code",
   "execution_count": 4,
   "metadata": {},
   "outputs": [],
   "source": [
    "dim = 2\n",
    "w = f(dim)\n",
    "x, y = generate_dataset(20, dim, w)"
   ]
  },
  {
   "cell_type": "code",
   "execution_count": 7,
   "metadata": {},
   "outputs": [
    {
     "name": "stdout",
     "output_type": "stream",
     "text": [
      "iters :  24\n"
     ]
    }
   ],
   "source": [
    "w, iters = PLA(x, y)\n",
    "print(\"iters : \", iters)"
   ]
  },
  {
   "cell_type": "code",
   "execution_count": 6,
   "metadata": {},
   "outputs": [
    {
     "data": {
      "image/png": "[encoded data removed]",
      "text/plain": [
       "<matplotlib.figure.Figure at 0x7f077e4aebe0>"
      ]
     },
     "metadata": {},
     "output_type": "display_data"
    }
   ],
   "source": [
    "for i in range(x.shape[0]):\n",
    "    if y[i]==1:\n",
    "        plt.scatter(x[i,0],x[i,1],marker=\"o\")\n",
    "    else:\n",
    "        plt.scatter(x[i,0],x[i,1],marker=\"x\")\n",
    "\n",
    "y1 = -1*w[0]/w[1] * (-10)\n",
    "y2 = -1*w[0]/w[1] * (10)\n",
    "plt.plot([-10, 10], [y1, y2]);"
   ]
  },
  {
   "cell_type": "code",
   "execution_count": null,
   "metadata": {
    "collapsed": true
   },
   "outputs": [],
   "source": []
  }
 ],
 "metadata": {
  "kernelspec": {
   "display_name": "Python 3",
   "language": "python",
   "name": "python3"
  },
  "language_info": {
   "codemirror_mode": {
    "name": "ipython",
    "version": 3
   },
   "file_extension": ".py",
   "mimetype": "text/x-python",
   "name": "python",
   "nbconvert_exporter": "python",
   "pygments_lexer": "ipython3",
   "version": "3.5.2"
  }
 },
 "nbformat": 4,
 "nbformat_minor": 2
}
